{
  "nbformat": 4,
  "nbformat_minor": 0,
  "metadata": {
    "colab": {
      "provenance": [],
      "toc_visible": true,
      "include_colab_link": true
    },
    "kernelspec": {
      "name": "python3",
      "display_name": "Python 3"
    },
    "language_info": {
      "name": "python"
    }
  },
  "cells": [
    {
      "cell_type": "markdown",
      "metadata": {
        "id": "view-in-github",
        "colab_type": "text"
      },
      "source": [
        "<a href=\"https://colab.research.google.com/github/Djopos/Djopos.github.io/blob/main/Estat%C3%ADstica_P1.ipynb\" target=\"_parent\"><img src=\"https://colab.research.google.com/assets/colab-badge.svg\" alt=\"Open In Colab\"/></a>"
      ]
    },
    {
      "cell_type": "code",
      "source": [
        "import pandas as pd\n",
        "import numpy as np\n",
        "import matplotlib.pyplot as plt\n",
        "# Conjunto de dados\n",
        "data = pd.Series([128, 100, 180, 150, 200, 90, 340, 105, 85, 270,\n",
        "                  200, 65, 230, 150, 150, 120, 130, 80, 230, 200,\n",
        "                  110, 126, 170, 132, 140, 112, 90, 340, 170, 190])\n",
        "notas = pd.DataFrame({'Notas':[86, 96, 82, 98, 100],\n",
        "                      'Pesos':[0.5, 0.15, 0.2, 0.1, 0.05]})\n",
        "notas.index = ['Média do teste', 'Prova bimestral', 'Prova final',\n",
        "               'Informática', 'Dever de casa']"
      ],
      "metadata": {
        "id": "y1zVpmVa61Kz"
      },
      "execution_count": 1,
      "outputs": []
    },
    {
      "cell_type": "markdown",
      "source": [
        "#Aula 2\n",
        "* Classes\n",
        "* Amplitude\n",
        "* Ponto médio\n",
        "* Frequência relativa"
      ],
      "metadata": {
        "id": "4Ga-9kjY38N8"
      }
    },
    {
      "cell_type": "code",
      "source": [
        "# Valores máximo, mínimo e número de classes\n",
        "v_max = data.max()\n",
        "v_min = data.min()\n",
        "n_classes = 7\n",
        "\n",
        "# Distribuição de Frequências\n",
        "dist_freq = data.value_counts(bins=n_classes).sort_index()\n",
        "\n",
        "# Amplitude das classes e intervalos\n",
        "amplitude_classe = round((v_max-v_min)/n_classes)\n",
        "intervalos = pd.interval_range(start=v_min, end=v_max, freq=amplitude_classe)\n",
        "\n",
        "# Pontos médios\n",
        "pts_medios = [inter.mid for inter in intervalos]\n",
        "\n",
        "# Construção do gráfico\n",
        "nova_dist_freq = pd.DataFrame(dist_freq)\n",
        "nova_dist_freq = nova_dist_freq.reset_index()\n",
        "nova_dist_freq.columns = ['Classe', 'Frequência']\n",
        "nova_dist_freq['Classe'] = intervalos\n",
        "nova_dist_freq['Pontos médios'] = pts_medios\n",
        "observacoes = len(data)\n",
        "nova_dist_freq['Frequência relativa'] = nova_dist_freq['Frequência']/observacoes      # Frequência relativa = frequência da classe / numero total de elementos\n",
        "nova_dist_freq['Frequência acumulada'] = nova_dist_freq['Frequência'].cumsum()\n",
        "\n",
        "display(nova_dist_freq)"
      ],
      "metadata": {
        "id": "ryi6aQHp4KvJ"
      },
      "execution_count": null,
      "outputs": []
    },
    {
      "cell_type": "markdown",
      "source": [
        "#Aula 3\n",
        "* Construção de gráficos"
      ],
      "metadata": {
        "id": "Yu7-m2nm4DVr"
      }
    },
    {
      "cell_type": "code",
      "source": [
        "plt.stem(nova_dist_freq['Pontos médios'], nova_dist_freq['Frequência relativa'], use_line_collection=True)\n",
        "plt.xlabel('Pontos médios')\n",
        "plt.ylabel('Frequência relativa')\n",
        "plt.title('Gráfico caule')\n",
        "plt.grid()\n",
        "plt.legend()\n",
        "plt.show()"
      ],
      "metadata": {
        "id": "kbkPuKj34LGJ"
      },
      "execution_count": null,
      "outputs": []
    },
    {
      "cell_type": "code",
      "source": [
        "plt.bar(nova_dist_freq['Pontos médios'], nova_dist_freq['Frequência relativa'], width=20, align='center')\n",
        "plt.xlabel('Pontos médios')\n",
        "plt.ylabel('Frequência relativa')\n",
        "plt.title('Gráfico de barras')\n",
        "plt.grid(False)\n",
        "plt.legend()\n",
        "plt.show()"
      ],
      "metadata": {
        "id": "_UtVJ5bFIDpU"
      },
      "execution_count": null,
      "outputs": []
    },
    {
      "cell_type": "code",
      "source": [
        "plt.plot(nova_dist_freq['Pontos médios'], nova_dist_freq['Frequência acumulada'], 'go--')\n",
        "plt.xlabel('Ponto médio')\n",
        "plt.ylabel('Frequência acumulada')\n",
        "plt.title('Gráfico ogiva')\n",
        "plt.xticks(nova_dist_freq['Pontos médios'])\n",
        "plt.grid()"
      ],
      "metadata": {
        "id": "lkfKuh0_ID27"
      },
      "execution_count": null,
      "outputs": []
    },
    {
      "cell_type": "markdown",
      "source": [
        "#Aula 4\n",
        "* Média, moda, mediana\n",
        "* Média ponderada\n",
        "* Média de frequências"
      ],
      "metadata": {
        "id": "KOiMYQ8i4FtF"
      }
    },
    {
      "cell_type": "code",
      "source": [
        "# Média, moda e mediana\n",
        "media = data.mean()\n",
        "mediana = data.median()\n",
        "moda = list(data.mode())\n",
        "print(f'Média: {media}')\n",
        "print(f'Mediana: {mediana}')\n",
        "print(f'Moda: {moda[0]}')  # [0] mostra o maior valor, [1] mostra o segundo maior valor, nao colocar nada mostra todos, etc...\n",
        "\n",
        "\n",
        "# Média ponderada - definição\n",
        "display(notas)  # DataFrame do primeiro código láaaa em cima\n",
        "media_ponderada = sum(notas['Notas'] * notas['Pesos']) / notas['Pesos'].sum()\n",
        "print(f'A média final é {media_ponderada}.')\n",
        "\n",
        "# Média ponderada - biblioteca Numpy\n",
        "media_ponderada = np.average(a=notas['Notas'], weights=notas['Pesos'])\n",
        "print(f'A média final é {media_ponderada}.')\n",
        "\n",
        "\n",
        "preco = (nova_dist_freq['Frequência']*nova_dist_freq['Pontos médios']).sum()/observacoes\n",
        "print(f'O preço médio de um navegador GPS é de US${preco:.2f}.')"
      ],
      "metadata": {
        "id": "jVLvgIQY4LdL"
      },
      "execution_count": null,
      "outputs": []
    },
    {
      "cell_type": "markdown",
      "source": [
        "#Aula 5\n",
        "* Desvio padrão\n",
        "* Método agg\n",
        "* CV"
      ],
      "metadata": {
        "id": "biZf3MbD4HIn"
      }
    },
    {
      "cell_type": "code",
      "source": [
        "# Desvio padrão\n",
        "desvio_padrao = data.std(numeric_only=True)\n",
        "print(f'Desvio padrão: {desvio_padrao}')\n",
        "\n",
        "# Coeficiente de variação\n",
        "CV = data.std()/data.mean() * 100   # Ponto médio / média\n",
        "print(f'Coeficiente de variação: {CV}')\n",
        "\n",
        "# Método agg\n",
        "data.agg(['mean', 'median', 'std'])\n",
        "\n",
        "\n",
        "\n",
        "# Comparação entre dados\n",
        "salarios = pd.DataFrame({'Dallas': [41.6, 50.0, 49.5, 38.7, 39.9,\n",
        "                                    45.8, 44.7, 47.8, 40.5, 44.3],\n",
        "                         'New York': [45.6, 41.5, 57.6, 55.1, 59.3,\n",
        "                                      59.0, 50.6, 47.2, 42.3, 51.0]})\n",
        "display(salarios)\n",
        "\n",
        "# Cálculo das médias, desvios padrão e coeficiente de variação\n",
        "est_sal =pd.DataFrame(salarios.mean(axis=0, numeric_only=True), columns=['Média'])\n",
        "est_sal['DesvPad'] = salarios.std(axis=0, ddof=0, numeric_only=True)\n",
        "est_sal['CV'] = est_sal['DesvPad']/est_sal['Média']*100\n",
        "display(est_sal)"
      ],
      "metadata": {
        "colab": {
          "base_uri": "https://localhost:8080/"
        },
        "id": "OOawFTwx4Ly3",
        "outputId": "e55d43ed-e43c-48c5-a5bb-2cea53ede03f"
      },
      "execution_count": null,
      "outputs": [
        {
          "output_type": "stream",
          "name": "stdout",
          "text": [
            "Desvio padrão: 69.83561157230714\n",
            "Coeficiente de variação: 43.80239069975359\n"
          ]
        },
        {
          "output_type": "execute_result",
          "data": {
            "text/plain": [
              "mean      159.433333\n",
              "median    145.000000\n",
              "std        69.835612\n",
              "dtype: float64"
            ]
          },
          "metadata": {},
          "execution_count": 49
        }
      ]
    },
    {
      "cell_type": "markdown",
      "source": [
        "#Aula 6\n",
        "* Quartis\n",
        "* Amplitude interquartis\n",
        "* Outliers (z-escore)\n",
        "* Boxplot"
      ],
      "metadata": {
        "id": "voAayiiR4HuZ"
      }
    },
    {
      "cell_type": "code",
      "source": [
        "quartis = data.quantile([0.25, 0.5, 0.75], interpolation='linear')    # Pode ser mudada os valores interiores para outras separatrizes\n",
        "print('Quartis em um Panda Series:')\n",
        "display(quartis) # É um objeto panda Series\n",
        "\n",
        "# Calculando a amplitude interquartil\n",
        "interquartil = quartis[0.75] - quartis[0.25]\n",
        "print(f'Amplitude interquartil: {interquartil}')\n",
        "\n",
        "# Limites para detecção de outliers\n",
        "lim_min = quartis[0.25] - 1.5*interquartil\n",
        "lim_max = quartis[0.75] + 1.5*interquartil\n",
        "print(f'Inferior = {lim_min}')\n",
        "print(f'Superior = {lim_max}')\n",
        "\n",
        "# Procurando por outliers\n",
        "out_inf = data.loc[data <= lim_min]\n",
        "print('Outlier inferior:')\n",
        "display(out_inf)\n",
        "\n",
        "out_sup = data.loc[data >= lim_max]\n",
        "print('Outlier superior:')\n",
        "display(out_sup)\n",
        "\n",
        "\n",
        "# Método describe\n",
        "print('---------Método describe---------')\n",
        "data.describe()\n",
        "\n",
        "\n",
        "# Boxplot\n",
        "df = pd.DataFrame(data)\n",
        "df.boxplot(color = 'red', vert=True, whis=1.5, showmeans=True)\n",
        "plt.title('Distribuição dos dados')"
      ],
      "metadata": {
        "id": "1keGUtrg4MIX"
      },
      "execution_count": null,
      "outputs": []
    },
    {
      "cell_type": "code",
      "source": [
        "import scipy.stats as stats\n",
        "# Criando o conjunto de dados\n",
        "dados = pd.DataFrame({'Nome': ['Nik', 'Kate', 'Joe', 'Mitch', 'Alana'],\n",
        "                      'Idade': [32, 30, 67, 34, 20],\n",
        "                      'Renda': [80000, 90000, 45000, 23000, 12000]})\n",
        "print('Tabela original:')\n",
        "display(dados)\n",
        "\n",
        "# Calculando os escores-z das colunas numéricas\n",
        "tabela_z = dados.select_dtypes(include='number').apply(stats.zscore)\n",
        "print('Tabela com colunas substituídas pelos escores-z:')\n",
        "display(tabela_z)\n",
        "\n",
        "# Agregando novas colunas com os escores-z\n",
        "dados['Escore-z Idade'] = stats.zscore(dados['Idade'])\n",
        "dados['Escore-z Renda'] = stats.zscore(dados['Renda'])\n",
        "print('Tabela orignal + escores-z:')\n",
        "display(dados)"
      ],
      "metadata": {
        "id": "1f1oAnJ9KzWj"
      },
      "execution_count": null,
      "outputs": []
    },
    {
      "cell_type": "markdown",
      "source": [
        "#Aula 7\n",
        "* Espaços amostrais"
      ],
      "metadata": {
        "id": "BjjmeFmV4Ih_"
      }
    },
    {
      "cell_type": "code",
      "source": [
        "import itertools\n",
        "\n",
        "# Resultados para o lançamento da moeda e do dado\n",
        "moeda = ['Cara', 'Coroa']\n",
        "dado = ['1', '2', '3', '4', '5', '6']\n",
        "\n",
        "\n",
        "# Criação do espaço amostral\n",
        "omega = [resultado for resultado in itertools.product(moeda, dado)]\n",
        "\n",
        "\n",
        "# Visualização dos elementos do espaço amostral\n",
        "print('** Espaço amostral **')\n",
        "for resultado in omega:\n",
        "  print(resultado)\n",
        "\n",
        "# Número de elementos no espaço amostral\n",
        "n_omega = len(omega)\n",
        "print(f'\\nExistem {n_omega} elementos no espaço amostral.')\n",
        "\n",
        "# Probabilidade de que Cara seja escolhido\n",
        "evento_1 = [escolha for escolha in omega if 'Cara' in escolha]\n",
        "print(evento_1)\n",
        "prob_1 = len(evento_1)/len(omega)\n",
        "print(f'Probabilidade de Cara ser escolhido é {prob_1*100}%')"
      ],
      "metadata": {
        "id": "XM6mRi_Y4Mdd",
        "colab": {
          "base_uri": "https://localhost:8080/"
        },
        "outputId": "9d426cd7-297b-4d7d-fdc3-013d2e9df42d"
      },
      "execution_count": null,
      "outputs": [
        {
          "output_type": "stream",
          "name": "stdout",
          "text": [
            "** Espaço amostral **\n",
            "('Cara', '1')\n",
            "('Cara', '2')\n",
            "('Cara', '3')\n",
            "('Cara', '4')\n",
            "('Cara', '5')\n",
            "('Cara', '6')\n",
            "('Coroa', '1')\n",
            "('Coroa', '2')\n",
            "('Coroa', '3')\n",
            "('Coroa', '4')\n",
            "('Coroa', '5')\n",
            "('Coroa', '6')\n",
            "\n",
            "Existem 12 elementos no espaço amostral.\n",
            "[('Cara', '1'), ('Cara', '2'), ('Cara', '3'), ('Cara', '4'), ('Cara', '5'), ('Cara', '6')]\n",
            "Probabilidade de Cara ser escolhido é 50.0%\n"
          ]
        }
      ]
    },
    {
      "cell_type": "markdown",
      "source": [
        "#Aula 8\n",
        "* Probabilidades condicionais"
      ],
      "metadata": {
        "id": "58-sDiN64JP1"
      }
    },
    {
      "cell_type": "code",
      "execution_count": null,
      "metadata": {
        "id": "UZl_CGaM3z7o"
      },
      "outputs": [],
      "source": [
        "# Criação do pandas DataFrame\n",
        "esportes = pd.DataFrame({'gênero': np.repeat(np.array(['Masculino', 'Feminino']), 150),\n",
        "                         'esporte': np.repeat(np.array(['Beisebol', 'Basquete',\n",
        "                                                        'Futebol', 'Vôlei',\n",
        "                                                        'Beisebol', 'Basquete',\n",
        "                                                        'Futebol', 'Vôlei']),\n",
        "                                              (34, 40, 58, 18, 34, 52, 20, 44))})\n",
        "# Inspeção de algumas linhas do painel de dados\n",
        "display(esportes.head())\n",
        "display(esportes.tail())\n",
        "\n",
        "# Construção da tabela de distrbuição conjunta\n",
        "dist_conj = pd.crosstab(index=esportes['gênero'],\n",
        "                        columns=esportes['esporte'], margins=True)\n",
        "display(dist_conj)\n",
        "\n",
        "# Probabilidade de ser do gênero masculino, dado que é fã de beisebol\n",
        "prob = dist_conj.iloc[1, 1] / dist_conj.iloc[2, 1]  # Posição dentro da tabela (y,x)\n",
        "print(f'P(Masculino|Beisebol) = {prob*100:.2f}%')\n",
        "\n",
        "# Probabilidade de ser fã de basquete, dado que é do gênero feminino\n",
        "prob = dist_conj.iloc[0, 0] / dist_conj.iloc[0, 4]  # Posição dentro da tabela (y,x)\n",
        "print(f'P(Basquete|Feminino) = {prob*100:.2f}%')\n",
        "\n",
        "# Probabilidades condicionais do tipo P(Esporte|Gênero)\n",
        "dist_conj_colunas = pd.crosstab(index=esportes['gênero'],\n",
        "                                columns=esportes['esporte'],\n",
        "                                margins=True, normalize='columns')\n",
        "display(dist_conj_colunas)\n",
        "\n",
        "# Probabilidades condicionais do tipo P(Gênero|Esporte)\n",
        "dist_conj_linhas = pd.crosstab(index=esportes['gênero'],\n",
        "                               columns=esportes['esporte'],\n",
        "                               margins=True, normalize='index')\n",
        "display(dist_conj_linhas)"
      ]
    },
    {
      "cell_type": "markdown",
      "source": [
        "# Aula 9\n",
        "* Análises discretas\n",
        "* Variáveis aleatórias discretas\n",
        "* Construir uma distribuição discreta de probabilidades para uma variável aleatória (discreta);\n",
        "* Calcular a média, a variância e o desvio padrão de uma distribuição discreta de probabilidades"
      ],
      "metadata": {
        "id": "KN2Yt8-VhVvs"
      }
    },
    {
      "cell_type": "code",
      "source": [
        "tabela = pd.DataFrame({'Vendas/dia': list(range(8)),\n",
        "                       'Num_dias': [16, 19, 15, 21, 9, 10, 8, 2]})\n",
        "\n",
        "# Cálculo das probabilidades\n",
        "total_vendas = tabela['Num_dias'].sum()\n",
        "tabela['P(x)'] = tabela['Num_dias']/total_vendas\n",
        "\n",
        "# Cálculo da probabilidade acumulada\n",
        "tabela['P_ac(x)'] = tabela['P(x)'].cumsum()\n",
        "display(tabela)"
      ],
      "metadata": {
        "id": "022eSyYbhWZr"
      },
      "execution_count": null,
      "outputs": []
    },
    {
      "cell_type": "code",
      "source": [
        "# Gráfico de segmentos verticais (caules)\n",
        "plt.stem(tabela['Vendas/dia'], tabela['P(x)'], linefmt='b-',\n",
        "         label='P(efetuar x vendas ao dia)')\n",
        "plt.xlabel('Vendas por dia')\n",
        "plt.ylabel('Probabilidades')\n",
        "plt.title('Distribuição discreta de probabilidades')\n",
        "plt.grid()\n",
        "plt.legend()\n",
        "plt.show()"
      ],
      "metadata": {
        "id": "txts0Dv6G7qs"
      },
      "execution_count": null,
      "outputs": []
    },
    {
      "cell_type": "code",
      "source": [
        "# Gráfico de barras verticais\n",
        "plt.bar(tabela['Vendas/dia'], tabela['P(x)'],\n",
        "        label='P(efetuar x vendas ao dia)')\n",
        "plt.xlabel('Vendas por dia')\n",
        "plt.ylabel('Probabilidades')\n",
        "plt.title('Distribuição discreta de probabilidades')\n",
        "plt.grid(False)\n",
        "plt.legend()\n",
        "plt.show()"
      ],
      "metadata": {
        "id": "RsCJDk70G9Fl"
      },
      "execution_count": null,
      "outputs": []
    },
    {
      "cell_type": "code",
      "source": [
        "# Representação gráfica da probabilidade discreta acumulada\n",
        "plt.plot(tabela['Vendas/dia'], tabela['P_ac(x)'], 'g-o',\n",
        "         label='P(efetuar x vendas ao dia) [acumulada)]')\n",
        "plt.xlabel('Vendas por dia')\n",
        "plt.ylabel('Probabilidades')\n",
        "plt.title('Probabilidade discreta acumulada')\n",
        "plt.grid()\n",
        "plt.legend()\n",
        "plt.show()"
      ],
      "metadata": {
        "id": "HUwQdSknG-h1"
      },
      "execution_count": null,
      "outputs": []
    },
    {
      "cell_type": "code",
      "source": [
        "# Inserção da coluna Vendas*Probabilidades (xP(x))\n",
        "tabela['xP(x)'] = tabela['Vendas/dia']*tabela['P(x)']\n",
        "\n",
        "# Cálculo da média da distribuição (soma de todos xP(x))\n",
        "media = tabela['xP(x)'].sum()\n",
        "print(f'A média da distribuição é de {media:.1f} vendas/dia.')\n",
        "\n",
        "# Inserção da coluna Vendas^2*Probabilidades (x²P(x))\n",
        "tabela['x^2P(x)'] = tabela['Vendas/dia']**2 * tabela['P(x)']\n",
        "display(tabela)\n",
        "\n",
        "# Cálculo da variância da distribuição (soma de x²P(x) menos média²)\n",
        "variancia = tabela['x^2P(x)'].sum() - media**2\n",
        "print(f'A variância da distribuição é de {variancia:.1f} (vendas/dia)^2.')\n",
        "\n",
        "# Cálculo do desvio padrão da distribuição (raíz quadrada da variância)\n",
        "desvio = variancia**(1/2)\n",
        "print(f'O desvio padrão da distribuição é de {desvio:.1f} vendas/dia.')"
      ],
      "metadata": {
        "id": "VCVVI81aHl35"
      },
      "execution_count": null,
      "outputs": []
    },
    {
      "cell_type": "markdown",
      "source": [
        "# Aula 10\n",
        "* Distribuição de propriedade binomial\n",
        "* ( quando há apenas dois resultados (V e F) e a probabilidade não muda em tentativas)"
      ],
      "metadata": {
        "id": "BuCRN0mlhWAU"
      }
    },
    {
      "cell_type": "markdown",
      "source": [
        "Sete adultos que participaram da pesquisa são selecionados aleatoriamente e indagados se utilizam um\n",
        "telefone celular(46%) para acessar mídia social. Construa uma distribuição de probabilidade binomial para o número de adultos que respondeu sim."
      ],
      "metadata": {
        "id": "suRj4J4_KMWC"
      }
    },
    {
      "cell_type": "code",
      "source": [
        "from scipy.stats import binom\n",
        "\n",
        "# Condições do experimento probabilístico binomial\n",
        "exp = 7 # (sete adultos)\n",
        "sucesso = 0.46\n",
        "val_x = list(range(exp + 1)) # (possíveis sucessos)\n",
        "\n",
        "# Geração da tabela de distribuição de probabilidade binomial\n",
        "dist_binomial = pd.DataFrame({'Sucesso': val_x})\n",
        "dist_binomial['Probabilidades'] = binom.pmf(val_x, exp, sucesso) # pmf é uma função que faz a probabilidade em experimentos binomiais\n",
        "display(dist_binomial)\n",
        "\n",
        "# Média (exp * sucesso)\n",
        "media = exp * sucesso\n",
        "# Variância (exp * sucesso * fracasso (1 - sucesso))\n",
        "variancia = exp * sucesso * (1 - sucesso)\n",
        "# Desvio padrão (raíz quadrada da variância)\n",
        "desvio = variancia ** (1/2)\n",
        "\n",
        "print(f'Média = {media:.2f} indivíduos')\n",
        "print(f'Variância = {variancia:.2f} indivíduos^2')\n",
        "print(f'Desvio padrão = {desvio:.2f} indivíduos')\n",
        "\n",
        "# Cálculo dos parâmetros usando o método stats de binom\n",
        "med, var = binom.stats(exp, sucesso)\n",
        "print('** Parâmetros populacionais - stats **')\n",
        "print(f'Média = {med:.2f} ; Variância = {var:.2f}')"
      ],
      "metadata": {
        "id": "EYZ_AElrhXLz",
        "colab": {
          "base_uri": "https://localhost:8080/",
          "height": 262
        },
        "outputId": "0bb4e606-8255-4970-cbd0-20871b3093a7"
      },
      "execution_count": 2,
      "outputs": [
        {
          "output_type": "error",
          "ename": "NameError",
          "evalue": "ignored",
          "traceback": [
            "\u001b[0;31m---------------------------------------------------------------------------\u001b[0m",
            "\u001b[0;31mNameError\u001b[0m                                 Traceback (most recent call last)",
            "\u001b[0;32m<ipython-input-2-bc56f48d1195>\u001b[0m in \u001b[0;36m<cell line: 9>\u001b[0;34m()\u001b[0m\n\u001b[1;32m      7\u001b[0m \u001b[0;34m\u001b[0m\u001b[0m\n\u001b[1;32m      8\u001b[0m \u001b[0;31m# Geração da tabela de distribuição de probabilidade binomial\u001b[0m\u001b[0;34m\u001b[0m\u001b[0;34m\u001b[0m\u001b[0m\n\u001b[0;32m----> 9\u001b[0;31m \u001b[0mdist_binomial\u001b[0m \u001b[0;34m=\u001b[0m \u001b[0mpd\u001b[0m\u001b[0;34m.\u001b[0m\u001b[0mDataFrame\u001b[0m\u001b[0;34m(\u001b[0m\u001b[0;34m{\u001b[0m\u001b[0;34m'Sucesso'\u001b[0m\u001b[0;34m:\u001b[0m \u001b[0mval_x\u001b[0m\u001b[0;34m}\u001b[0m\u001b[0;34m)\u001b[0m\u001b[0;34m\u001b[0m\u001b[0;34m\u001b[0m\u001b[0m\n\u001b[0m\u001b[1;32m     10\u001b[0m \u001b[0mdist_binomial\u001b[0m\u001b[0;34m[\u001b[0m\u001b[0;34m'Probabilidades'\u001b[0m\u001b[0;34m]\u001b[0m \u001b[0;34m=\u001b[0m \u001b[0mbinom\u001b[0m\u001b[0;34m.\u001b[0m\u001b[0mpmf\u001b[0m\u001b[0;34m(\u001b[0m\u001b[0mval_x\u001b[0m\u001b[0;34m,\u001b[0m \u001b[0mexp\u001b[0m\u001b[0;34m,\u001b[0m \u001b[0msucesso\u001b[0m\u001b[0;34m)\u001b[0m \u001b[0;31m# pmf é uma função que faz a probabilidade em experimentos binomiais\u001b[0m\u001b[0;34m\u001b[0m\u001b[0;34m\u001b[0m\u001b[0m\n\u001b[1;32m     11\u001b[0m \u001b[0mdisplay\u001b[0m\u001b[0;34m(\u001b[0m\u001b[0mdist_binomial\u001b[0m\u001b[0;34m)\u001b[0m\u001b[0;34m\u001b[0m\u001b[0;34m\u001b[0m\u001b[0m\n",
            "\u001b[0;31mNameError\u001b[0m: name 'pd' is not defined"
          ]
        }
      ]
    },
    {
      "cell_type": "markdown",
      "source": [
        "Uma pesquisa com adultos americanos descobriu que 62% das mulheres acreditam que há uma ligação entre jogos violentos e adolescentes que apresentam comportamento violento. Você seleciona aleatoriamente\n",
        "quatro mulheres americanas e pergunta se elas acreditam nessa ligação entre jogos e comportamento violentos. Encontre a probabilidade de que:\n",
        "\n",
        "\n",
        "*   exatamente duas mulheres respondam sim\n",
        "*   ao menos duas mulheres respondam sim\n",
        "*   menos de duas mulheres responderam sim"
      ],
      "metadata": {
        "id": "c_OF6xN-MITn"
      }
    },
    {
      "cell_type": "code",
      "source": [
        "exp = 4\n",
        "sucesso = 0.62\n",
        "val_x = list(range(exp + 1))\n",
        "\n",
        "dist_binomial = pd.DataFrame({'Sucesso': val_x})\n",
        "dist_binomial['Probabilidades'] = binom.pmf(val_x, exp, sucesso)\n",
        "display(dist_binomial)\n",
        "\n",
        "tab_filtrada = dist_binomial['Probabilidades'].loc[dist_binomial['Sucesso'] == 2]\n",
        "print(tab_filtrada)\n",
        "prob1 = tab_filtrada.values[0]  # apenas um valor\n",
        "print(f'P(2 mulheres respondam sim) = {prob1*100:.1f}%')\n",
        "\n",
        "tab_filtrada = dist_binomial['Probabilidades'].loc[dist_binomial['Sucesso'] >= 2]\n",
        "print(tab_filtrada)\n",
        "prob2 = tab_filtrada.sum()      # mais de um valor resultado (sum())\n",
        "print(f'P(2 ou mais mulheres respondam sim) = {prob2*100:.1f}%')\n",
        "\n",
        "tab_filtrada = dist_binomial['Probabilidades'].loc[dist_binomial['Sucesso'] < 2]\n",
        "print(tab_filtrada)\n",
        "prob3 = tab_filtrada.sum()      # mais de um valor resultado (sum())\n",
        "print(f'P(menos de 2 mulheres respondam sim) = {prob3*100:.1f}%')"
      ],
      "metadata": {
        "id": "OwZpduF2MK5P"
      },
      "execution_count": null,
      "outputs": []
    }
  ]
}